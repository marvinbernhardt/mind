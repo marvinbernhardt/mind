{
 "cells": [
  {
   "cell_type": "code",
   "execution_count": null,
   "id": "b1a75bed-b088-4c1c-9e50-06d5b4c9c5df",
   "metadata": {},
   "outputs": [],
   "source": [
    "import matplotlib.pyplot as plt\n",
    "from mind import mdrun\n",
    "from numba import njit\n",
    "import numpy as np\n",
    "import time"
   ]
  },
  {
   "cell_type": "code",
   "execution_count": null,
   "id": "b52966b2-bd72-4e75-a1f8-d14eca8d36ab",
   "metadata": {},
   "outputs": [],
   "source": [
    "from mind import correct_distance_pbc\n",
    "@njit\n",
    "def calc_rdf(traj, box, grid):\n",
    "    box_half = box / 2.0\n",
    "    max_grid = max(grid)\n",
    "    grid_spacing = grid[1] - grid[0]\n",
    "    grid_spacing_half = grid_spacing / 2.0\n",
    "    grid_min = np.min(grid)\n",
    "    rdf = np.zeros_like(grid)\n",
    "    N = len(traj[0][0])\n",
    "    for frame in traj:\n",
    "        rx, ry, rz = frame\n",
    "        for i in range(N):\n",
    "            for j in range(N):\n",
    "                if i != j:\n",
    "                    dx = rx[i] - rx[j]\n",
    "                    dy = ry[i] - ry[j]\n",
    "                    dz = rz[i] - rz[j]\n",
    "                    dx, dy, dz = correct_distance_pbc(box, box_half, dx, dy, dz)\n",
    "                    r = np.sqrt(dx * dx + dy * dy + dz * dz)\n",
    "                    if r < max_grid + grid_spacing_half:\n",
    "                        rdf[int((r - grid_min + grid_spacing_half) // grid_spacing)] += 1\n",
    "    # normalize rdf\n",
    "    density = N / np.prod(box)\n",
    "    for i in range(len(rdf)):\n",
    "        r = grid[i]\n",
    "        volume_shell = 4 / 3 * np.pi * ((r + grid_spacing_half)**3 -\n",
    "                                        (r - grid_spacing_half)**3)\n",
    "        rdf[i] = rdf[i] / volume_shell / density / N / len(traj)\n",
    "    return rdf"
   ]
  },
  {
   "cell_type": "code",
   "execution_count": null,
   "id": "6c2edc4e-1bc8-4426-9abf-41db57d7ef23",
   "metadata": {},
   "outputs": [],
   "source": [
    "L = 6.0\n",
    "box = np.array([L, L, L])\n",
    "x_ = np.linspace(0., box[0], num=6, endpoint=False)\n",
    "y_ = np.linspace(0., box[1], num=6, endpoint=False)\n",
    "z_ = np.linspace(0., box[2], num=6, endpoint=False)\n",
    "x, y, z = np.meshgrid(x_, y_, z_, indexing='ij')\n",
    "rx = x.flatten()\n",
    "ry = y.flatten()\n",
    "rz = z.flatten()\n",
    "\n",
    "md_setup = {\n",
    "    'box': box,\n",
    "    'start_r': (rx, ry, rz),\n",
    "    'start_v': None,\n",
    "    'dt': 0.001,\n",
    "    'cut_off': 2.5,\n",
    "    'n_steps': 5000,\n",
    "    'T': 1.0,\n",
    "    'tau': 0.1,\n",
    "    'T_damp': 1,\n",
    "    'print_every_n_steps': 1000,\n",
    "    'save_traj_every_n_steps': 1,\n",
    "    'save_energies_every_n_steps': 1,\n",
    "}"
   ]
  },
  {
   "cell_type": "code",
   "execution_count": null,
   "id": "5b0b2f82-784b-4506-80f2-6ab08d8a244b",
   "metadata": {},
   "outputs": [],
   "source": [
    "r = np.arange(0.5, 2.6, 0.01)\n",
    "u = 4 * (r**-12 - r**-6)"
   ]
  },
  {
   "cell_type": "code",
   "execution_count": null,
   "id": "a4f74afd-00fb-47d7-9c11-e0e76429b1d7",
   "metadata": {},
   "outputs": [],
   "source": [
    "trajs, eners, gs = {}, {}, {}\n",
    "for run in ['LJ', 'tabulated']:\n",
    "    print(f\".. now doing {run} ..\")\n",
    "    if run == 'tabulated':\n",
    "        md_setup['r_u_table'] = np.array([r, u])\n",
    "\n",
    "    # MD\n",
    "    t_start = time.perf_counter()\n",
    "    trajs[run], eners[run] = mdrun(md_setup)\n",
    "    t_end = time.perf_counter()\n",
    "    print(f\".. total looping time = {t_end - t_start:.2f} seconds ..\")"
   ]
  },
  {
   "cell_type": "code",
   "execution_count": null,
   "id": "bd66e3d7-e263-47b4-87c5-b04c808aa15a",
   "metadata": {},
   "outputs": [],
   "source": [
    "# RDF\n",
    "grid = np.linspace(0.0, np.min(box), 200)\n",
    "for run in ['LJ', 'tabulated']:\n",
    "    print(f\".. now doing {run} ..\")\n",
    "    t_start = time.perf_counter()\n",
    "    gs[run] = calc_rdf(trajs[run][1000:], box, grid)  # ignore first x frames\n",
    "    t_end = time.perf_counter()\n",
    "    print(f\".. total looping time = {t_end - t_start:.2f} seconds ..\")"
   ]
  },
  {
   "cell_type": "code",
   "execution_count": null,
   "id": "beae6638-28b1-46c3-b33f-56bcb5c2c090",
   "metadata": {},
   "outputs": [],
   "source": [
    "for run in ['LJ', 'tabulated']:\n",
    "    plt.plot(grid, gs[run], label=run)\n",
    "plt.legend()\n",
    "plt.show()"
   ]
  },
  {
   "cell_type": "code",
   "execution_count": null,
   "id": "92566a79-0919-4713-848d-aba414cc8a05",
   "metadata": {},
   "outputs": [],
   "source": []
  }
 ],
 "metadata": {
  "kernelspec": {
   "display_name": "Python 3 (ipykernel)",
   "language": "python",
   "name": "python3"
  },
  "language_info": {
   "codemirror_mode": {
    "name": "ipython",
    "version": 3
   },
   "file_extension": ".py",
   "mimetype": "text/x-python",
   "name": "python",
   "nbconvert_exporter": "python",
   "pygments_lexer": "ipython3",
   "version": "3.9.7"
  }
 },
 "nbformat": 4,
 "nbformat_minor": 5
}
